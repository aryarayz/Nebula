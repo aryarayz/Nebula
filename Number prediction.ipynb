{
  "nbformat": 4,
  "nbformat_minor": 0,
  "metadata": {
    "colab": {
      "name": "Number.ipynb",
      "provenance": [],
      "authorship_tag": "ABX9TyNSZcVqh4VfaAaYxtpPaCYF",
      "include_colab_link": true
    },
    "kernelspec": {
      "name": "python3",
      "display_name": "Python 3"
    },
    "language_info": {
      "name": "python"
    }
  },
  "cells": [
    {
      "cell_type": "markdown",
      "metadata": {
        "id": "view-in-github",
        "colab_type": "text"
      },
      "source": [
        "<a href=\"https://colab.research.google.com/github/aryarayz/Nebula/blob/main/Number%20prediction.ipynb\" target=\"_parent\"><img src=\"https://colab.research.google.com/assets/colab-badge.svg\" alt=\"Open In Colab\"/></a>"
      ]
    },
    {
      "cell_type": "code",
      "metadata": {
        "id": "DDa-Si4m5jtL"
      },
      "source": [
        "import tensorflow as tf\n",
        "from tensorflow import keras\n",
        "import matplotlib.pyplot as plt\n",
        "%matplotlib inline\n",
        "import numpy as np"
      ],
      "execution_count": 1,
      "outputs": []
    },
    {
      "cell_type": "code",
      "metadata": {
        "colab": {
          "base_uri": "https://localhost:8080/"
        },
        "id": "8jXgt5U36KqE",
        "outputId": "f52c8873-1785-41b6-a80c-c3cf9df319b0"
      },
      "source": [
        "(X_train, y_train) , (X_test, y_test) = keras.datasets.mnist.load_data()"
      ],
      "execution_count": 2,
      "outputs": [
        {
          "output_type": "stream",
          "text": [
            "Downloading data from https://storage.googleapis.com/tensorflow/tf-keras-datasets/mnist.npz\n",
            "11493376/11490434 [==============================] - 0s 0us/step\n"
          ],
          "name": "stdout"
        }
      ]
    },
    {
      "cell_type": "code",
      "metadata": {
        "colab": {
          "base_uri": "https://localhost:8080/"
        },
        "id": "-3YHoEme6cjc",
        "outputId": "a1e42ed9-4f85-41ec-ec8c-1aef5b23e044"
      },
      "source": [
        "len(X_train)"
      ],
      "execution_count": 3,
      "outputs": [
        {
          "output_type": "execute_result",
          "data": {
            "text/plain": [
              "60000"
            ]
          },
          "metadata": {
            "tags": []
          },
          "execution_count": 3
        }
      ]
    },
    {
      "cell_type": "code",
      "metadata": {
        "colab": {
          "base_uri": "https://localhost:8080/"
        },
        "id": "FtRehRYu6g3_",
        "outputId": "08f7fe31-a18f-481c-e359-88b65e5bb570"
      },
      "source": [
        "len(X_test)"
      ],
      "execution_count": 4,
      "outputs": [
        {
          "output_type": "execute_result",
          "data": {
            "text/plain": [
              "10000"
            ]
          },
          "metadata": {
            "tags": []
          },
          "execution_count": 4
        }
      ]
    },
    {
      "cell_type": "code",
      "metadata": {
        "colab": {
          "base_uri": "https://localhost:8080/"
        },
        "id": "HvbNz9br6npo",
        "outputId": "b581418b-3e7f-4b9e-8431-418bf03b5a18"
      },
      "source": [
        "X_train.shape"
      ],
      "execution_count": 12,
      "outputs": [
        {
          "output_type": "execute_result",
          "data": {
            "text/plain": [
              "(60000, 28, 28)"
            ]
          },
          "metadata": {
            "tags": []
          },
          "execution_count": 12
        }
      ]
    },
    {
      "cell_type": "code",
      "metadata": {
        "id": "x8WPQZmz65Q2"
      },
      "source": [
        "X_train = X_train / 255\n",
        "X_test = X_test / 255"
      ],
      "execution_count": 43,
      "outputs": []
    },
    {
      "cell_type": "code",
      "metadata": {
        "id": "19GghrOQ7JGj"
      },
      "source": [
        "plt.matshow(X_train[3])"
      ],
      "execution_count": null,
      "outputs": []
    },
    {
      "cell_type": "code",
      "metadata": {
        "colab": {
          "base_uri": "https://localhost:8080/"
        },
        "id": "EXpKtUc9_DG3",
        "outputId": "14a34623-2a0e-490b-fcf0-0936c3444c89"
      },
      "source": [
        "y_train[:5]"
      ],
      "execution_count": 44,
      "outputs": [
        {
          "output_type": "execute_result",
          "data": {
            "text/plain": [
              "array([5, 0, 4, 1, 9], dtype=uint8)"
            ]
          },
          "metadata": {
            "tags": []
          },
          "execution_count": 44
        }
      ]
    },
    {
      "cell_type": "code",
      "metadata": {
        "id": "-bnYNYeP_NaZ"
      },
      "source": [
        "X_tr_flattened = X_train.reshape(len(X_train),28*28)\n",
        "X_ts_flattened = X_test.reshape(len(X_test),28*28)"
      ],
      "execution_count": 45,
      "outputs": []
    },
    {
      "cell_type": "code",
      "metadata": {
        "colab": {
          "base_uri": "https://localhost:8080/"
        },
        "id": "hojLQAZ2AbOv",
        "outputId": "8e8d5126-1ae8-4ee0-8203-5751af6d28b9"
      },
      "source": [
        "X_tr_flattened.shape"
      ],
      "execution_count": 46,
      "outputs": [
        {
          "output_type": "execute_result",
          "data": {
            "text/plain": [
              "(60000, 784)"
            ]
          },
          "metadata": {
            "tags": []
          },
          "execution_count": 46
        }
      ]
    },
    {
      "cell_type": "code",
      "metadata": {
        "colab": {
          "base_uri": "https://localhost:8080/"
        },
        "id": "sv8o4eFQA4xr",
        "outputId": "fb0ecaf0-485f-47c4-9098-d4d93a2aad25"
      },
      "source": [
        "model = keras.Sequential([\n",
        "    keras.layers.Dense(10, input_shape=(784,), activation='sigmoid')\n",
        "])\n",
        "\n",
        "model.compile(optimizer='adam',\n",
        "              loss='sparse_categorical_crossentropy',\n",
        "              metrics=['accuracy'])\n",
        "\n",
        "model.fit(X_tr_flattened, y_train, epochs=5)"
      ],
      "execution_count": 47,
      "outputs": [
        {
          "output_type": "stream",
          "text": [
            "Epoch 1/5\n",
            "1875/1875 [==============================] - 3s 1ms/step - loss: 0.4752 - accuracy: 0.8747\n",
            "Epoch 2/5\n",
            "1875/1875 [==============================] - 2s 1ms/step - loss: 0.3041 - accuracy: 0.9150\n",
            "Epoch 3/5\n",
            "1875/1875 [==============================] - 3s 1ms/step - loss: 0.2832 - accuracy: 0.9205\n",
            "Epoch 4/5\n",
            "1875/1875 [==============================] - 3s 1ms/step - loss: 0.2729 - accuracy: 0.9238\n",
            "Epoch 5/5\n",
            "1875/1875 [==============================] - 3s 1ms/step - loss: 0.2660 - accuracy: 0.9261\n"
          ],
          "name": "stdout"
        },
        {
          "output_type": "execute_result",
          "data": {
            "text/plain": [
              "<tensorflow.python.keras.callbacks.History at 0x7fa7af190d90>"
            ]
          },
          "metadata": {
            "tags": []
          },
          "execution_count": 47
        }
      ]
    },
    {
      "cell_type": "code",
      "metadata": {
        "colab": {
          "base_uri": "https://localhost:8080/"
        },
        "id": "6lsioo_CG7ZL",
        "outputId": "cc22c1ce-ff34-43c4-ac22-fcc18970ebbb"
      },
      "source": [
        "model.evaluate(X_ts_flattened, y_test)"
      ],
      "execution_count": 48,
      "outputs": [
        {
          "output_type": "stream",
          "text": [
            "313/313 [==============================] - 0s 1ms/step - loss: 0.2677 - accuracy: 0.9254\n"
          ],
          "name": "stdout"
        },
        {
          "output_type": "execute_result",
          "data": {
            "text/plain": [
              "[0.2677411735057831, 0.9254000186920166]"
            ]
          },
          "metadata": {
            "tags": []
          },
          "execution_count": 48
        }
      ]
    },
    {
      "cell_type": "code",
      "metadata": {
        "colab": {
          "base_uri": "https://localhost:8080/"
        },
        "id": "GlDujQ-zMJ6c",
        "outputId": "02665c3a-c73f-4abb-f725-93024da8253d"
      },
      "source": [
        "model.predict(X_ts_flattened)"
      ],
      "execution_count": 50,
      "outputs": [
        {
          "output_type": "execute_result",
          "data": {
            "text/plain": [
              "array([[1.9520760e-02, 3.7987505e-07, 6.2780529e-02, ..., 9.9976975e-01,\n",
              "        1.1970219e-01, 6.7456657e-01],\n",
              "       [3.9601597e-01, 3.5907328e-03, 9.9922949e-01, ..., 1.0283402e-12,\n",
              "        1.8653175e-01, 1.8989976e-09],\n",
              "       [3.0699372e-04, 9.9200857e-01, 6.6960937e-01, ..., 1.2212980e-01,\n",
              "        3.6223036e-01, 3.7864387e-02],\n",
              "       ...,\n",
              "       [1.4835369e-06, 3.6721567e-06, 6.9284439e-04, ..., 1.9673932e-01,\n",
              "        4.8299307e-01, 7.5493908e-01],\n",
              "       [6.1754443e-05, 1.6537309e-04, 1.0144814e-04, ..., 2.3611557e-05,\n",
              "        6.1273646e-01, 1.0217255e-04],\n",
              "       [1.1991382e-02, 3.6800618e-10, 1.2799314e-01, ..., 2.3445432e-08,\n",
              "        2.6327372e-04, 6.4131592e-07]], dtype=float32)"
            ]
          },
          "metadata": {
            "tags": []
          },
          "execution_count": 50
        }
      ]
    },
    {
      "cell_type": "code",
      "metadata": {
        "colab": {
          "base_uri": "https://localhost:8080/"
        },
        "id": "f9zQ5pC2Mxes",
        "outputId": "c3f838b5-325d-40c3-950b-2edf8d605ca8"
      },
      "source": [
        "y_predict = model.predict(X_ts_flattened)\n",
        "y_predict[0]"
      ],
      "execution_count": 53,
      "outputs": [
        {
          "output_type": "execute_result",
          "data": {
            "text/plain": [
              "array([1.9520760e-02, 3.7987505e-07, 6.2780529e-02, 9.3925428e-01,\n",
              "       1.6710758e-03, 1.0417715e-01, 1.1460004e-06, 9.9976975e-01,\n",
              "       1.1970219e-01, 6.7456657e-01], dtype=float32)"
            ]
          },
          "metadata": {
            "tags": []
          },
          "execution_count": 53
        }
      ]
    },
    {
      "cell_type": "code",
      "metadata": {
        "colab": {
          "base_uri": "https://localhost:8080/"
        },
        "id": "6pjI8MixNaNB",
        "outputId": "203ed583-0990-4a12-ec88-9b67353ff1ba"
      },
      "source": [
        "np.argmax(y_predict[1])"
      ],
      "execution_count": 55,
      "outputs": [
        {
          "output_type": "execute_result",
          "data": {
            "text/plain": [
              "2"
            ]
          },
          "metadata": {
            "tags": []
          },
          "execution_count": 55
        }
      ]
    }
  ]
}